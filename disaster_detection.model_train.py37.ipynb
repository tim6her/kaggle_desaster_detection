{
    "cells": [
        {
            "cell_type": "markdown",
            "metadata": {},
            "source": "# Model Training\n\n## 1. Setting Up Spark Context"
        },
        {
            "cell_type": "code",
            "execution_count": 1,
            "metadata": {},
            "outputs": [],
            "source": "from pyspark import SparkContext, SparkConf\nfrom pyspark.sql import SparkSession"
        },
        {
            "cell_type": "code",
            "execution_count": 2,
            "metadata": {},
            "outputs": [],
            "source": "sc = SparkContext.getOrCreate(SparkConf().setMaster(\"local[*]\"))\n\nspark = SparkSession \\\n    .builder \\\n    .getOrCreate()"
        },
        {
            "cell_type": "markdown",
            "metadata": {},
            "source": "## 2. Download data from Object Store"
        },
        {
            "cell_type": "code",
            "execution_count": 3,
            "metadata": {},
            "outputs": [
                {
                    "name": "stdout",
                    "output_type": "stream",
                    "text": "Please enter value for IBM_API_KEY_ID: \u00b7\u00b7\u00b7\u00b7\u00b7\u00b7\u00b7\u00b7\nPlease enter value for IBM_OBJECT_STORE_BUCKET: \u00b7\u00b7\u00b7\u00b7\u00b7\u00b7\u00b7\u00b7\n"
                }
            ],
            "source": "import os\nimport getpass\n\ndef get_or_set_environment_variable(variable):\n    try:\n        var = os.environ[variable]\n    except KeyError:\n        var = getpass.getpass('Please enter value for {:}: '.format(variable))\n    \n    os.environ[variable] = var\n    return var\n\nibm_api_key_id = get_or_set_environment_variable('IBM_API_KEY_ID')\nibm_cloud_store_bucket = get_or_set_environment_variable('IBM_OBJECT_STORE_BUCKET')"
        },
        {
            "cell_type": "markdown",
            "metadata": {},
            "source": "### 2.1 Load Training Data"
        },
        {
            "cell_type": "code",
            "execution_count": 4,
            "metadata": {},
            "outputs": [
                {
                    "data": {
                        "text/plain": "{'train': ['disaster_detection_clean_train-0000.parquet'],\n 'test': ['disaster_detection_clean_test-0000.parquet'],\n 'label': ['disaster_detection_label-0000.parquet']}"
                    },
                    "execution_count": 4,
                    "metadata": {},
                    "output_type": "execute_result"
                }
            ],
            "source": "import json\nimport os\n\nimport types\nfrom botocore.client import Config\nimport ibm_boto3\n\ndef __iter__(self): return 0\n\nclient = ibm_boto3.client(service_name='s3',\n    ibm_api_key_id=ibm_api_key_id,\n    ibm_auth_endpoint=\"https://iam.cloud.ibm.com/oidc/token\",\n    config=Config(signature_version='oauth'),\n    endpoint_url='https://s3-api.us-geo.objectstorage.service.networklayer.com')\n\nbody = client.get_object(Bucket=ibm_cloud_store_bucket,\n                         Key='feature_eng_parquet_files.json')['Body']\n# add missing __iter__ method\n\nif not hasattr(body, \"__iter__\"): body.__iter__ = types.MethodType( __iter__, body )\n\nfiles = json.load(body)\nfiles"
        },
        {
            "cell_type": "code",
            "execution_count": 5,
            "metadata": {},
            "outputs": [],
            "source": "def load_dataframe(files, **kargs):\n    dfs = []\n    for fn in files:\n        body = client.get_object(Bucket=ibm_cloud_store_bucket,\n                                 Key=fn)['Body']\n        if not hasattr(body, \"__iter__\"):\n            body.__iter__ = types.MethodType( __iter__, body )\n        \n        tfn = 'temp_{:}'.format(fn)\n        with open(tfn, 'wb') as temp:\n            temp.write(body.read())\n        dfs.append(spark.read.options(**kargs).parquet(tfn))\n    df = dfs.pop()\n    for other in dfs:\n        df = df.union(other)\n    return df\n\ndf_train = load_dataframe(files['train'])\ndf_label = load_dataframe(files['label'])"
        },
        {
            "cell_type": "markdown",
            "metadata": {},
            "source": "### 2.2 Load Model Definitions"
        },
        {
            "cell_type": "code",
            "execution_count": 6,
            "metadata": {},
            "outputs": [
                {
                    "data": {
                        "text/plain": "{'LogisticRegression_count.ai.zip': 'spark',\n 'LogisticRegression_tfidf.ai.zip': 'spark',\n 'NaiveBayes_count.ai.zip': 'spark',\n 'NaiveBayes_tfidf.ai.zip': 'spark',\n 'Sequential_NN_w2v.ai.h5': 'keras'}"
                    },
                    "execution_count": 6,
                    "metadata": {},
                    "output_type": "execute_result"
                }
            ],
            "source": "body = client.get_object(Bucket=ibm_cloud_store_bucket,\n                         Key='model_def_files.json')['Body']\n# add missing __iter__ method, so pandas accepts body as file-like object \n\nif not hasattr(body, \"__iter__\"): body.__iter__ = types.MethodType( __iter__, body )\n\nmodel_files = json.load(body)\nmodel_files"
        },
        {
            "cell_type": "code",
            "execution_count": 7,
            "metadata": {},
            "outputs": [
                {
                    "data": {
                        "text/plain": "['./temp_LogisticRegression_count.ai.zip',\n './temp_LogisticRegression_tfidf.ai.zip',\n './temp_NaiveBayes_count.ai.zip',\n './temp_NaiveBayes_tfidf.ai.zip',\n './temp_Sequential_NN_w2v.ai.h5']"
                    },
                    "execution_count": 7,
                    "metadata": {},
                    "output_type": "execute_result"
                }
            ],
            "source": "def download_model_files(files):\n    temp_files = []\n    for fn in files:\n        body = client.get_object(Bucket=ibm_cloud_store_bucket,\n                                 Key=fn)['Body']\n        if not hasattr(body, \"__iter__\"):\n            body.__iter__ = types.MethodType( __iter__, body )\n        \n        tfn = os.path.join(os.path.curdir, 'temp_{:}'.format(fn))\n        with open(tfn, 'wb') as temp:\n            temp.write(body.read())\n            \n        temp_files.append(tfn)\n    return temp_files\n\nmodel_temp_files = download_model_files(model_files.keys())\nmodel_temp_files"
        },
        {
            "cell_type": "code",
            "execution_count": 8,
            "metadata": {},
            "outputs": [
                {
                    "data": {
                        "text/plain": "['./LogisticRegression_count.ai/',\n './LogisticRegression_tfidf.ai/',\n './NaiveBayes_count.ai/',\n './NaiveBayes_tfidf.ai/']"
                    },
                    "execution_count": 8,
                    "metadata": {},
                    "output_type": "execute_result"
                }
            ],
            "source": "import zipfile\n\ndef unzip_file(path):\n    with zipfile.ZipFile(path, 'r') as zip_ref:\n        zip_ref.extractall(os.curdir)\n        extracted = zip_ref.namelist()[0]\n    return os.path.join(os.curdir, extracted)\n\nextracted_models = [unzip_file(path) for path in model_temp_files[:-1]]\nextracted_models"
        },
        {
            "cell_type": "markdown",
            "metadata": {},
            "source": "#### 2.2.1 Logistic Regression"
        },
        {
            "cell_type": "code",
            "execution_count": 9,
            "metadata": {},
            "outputs": [
                {
                    "data": {
                        "text/plain": "[LogisticRegression_c8b0de18d229, LogisticRegression_20d068424298]"
                    },
                    "execution_count": 9,
                    "metadata": {},
                    "output_type": "execute_result"
                }
            ],
            "source": "from pyspark.ml.classification import LogisticRegression\n\nlrs = [LogisticRegression.load(t_file) for t_file in extracted_models[:2]]\nlrs"
        },
        {
            "cell_type": "markdown",
            "metadata": {},
            "source": "#### 2.2.2 Naive Bayes"
        },
        {
            "cell_type": "code",
            "execution_count": 10,
            "metadata": {},
            "outputs": [
                {
                    "data": {
                        "text/plain": "[NaiveBayes_eadba888dbea, NaiveBayes_9056b7fbe3e8]"
                    },
                    "execution_count": 10,
                    "metadata": {},
                    "output_type": "execute_result"
                }
            ],
            "source": "from pyspark.ml.classification import NaiveBayes\n\nnbs = [NaiveBayes.load(t_file) for t_file in extracted_models[2:4]]\nnbs"
        },
        {
            "cell_type": "markdown",
            "metadata": {},
            "source": "#### 2.2.3 Convolutional Neural Network"
        },
        {
            "cell_type": "code",
            "execution_count": 11,
            "metadata": {},
            "outputs": [
                {
                    "data": {
                        "text/plain": "'2.2.0-rc0'"
                    },
                    "execution_count": 11,
                    "metadata": {},
                    "output_type": "execute_result"
                }
            ],
            "source": "import tensorflow as tf\ntf.__version__"
        },
        {
            "cell_type": "code",
            "execution_count": 12,
            "metadata": {
                "scrolled": true
            },
            "outputs": [
                {
                    "name": "stdout",
                    "output_type": "stream",
                    "text": "Model: \"sequential\"\n_________________________________________________________________\nLayer (type)                 Output Shape              Param #   \n=================================================================\ndense (Dense)                (None, 82)                8282      \n_________________________________________________________________\nleaky_re_lu (LeakyReLU)      (None, 82)                0         \n_________________________________________________________________\ndropout (Dropout)            (None, 82)                0         \n_________________________________________________________________\ndense_1 (Dense)              (None, 82)                6806      \n_________________________________________________________________\nleaky_re_lu_1 (LeakyReLU)    (None, 82)                0         \n_________________________________________________________________\ndropout_1 (Dropout)          (None, 82)                0         \n_________________________________________________________________\ndense_2 (Dense)              (None, 1)                 83        \n=================================================================\nTotal params: 15,171\nTrainable params: 15,171\nNon-trainable params: 0\n_________________________________________________________________\n"
                }
            ],
            "source": "from tensorflow import keras\n\nmodel = keras.models.load_model(model_temp_files[-1])\nmodel.summary()"
        },
        {
            "cell_type": "markdown",
            "metadata": {},
            "source": "## 3. Training the models"
        },
        {
            "cell_type": "markdown",
            "metadata": {},
            "source": "#### 3.1 Transforming and Splitting Training Data"
        },
        {
            "cell_type": "code",
            "execution_count": 13,
            "metadata": {},
            "outputs": [
                {
                    "name": "stdout",
                    "output_type": "stream",
                    "text": "+---+--------------------+--------------------+--------------------+--------------------+-----+\n| id|                text|      features_count|      features_tfidf|        features_w2v|label|\n+---+--------------------+--------------------+--------------------+--------------------+-----+\n|  1|Our Deeds are the...|(2266,[16,80,201,...|(2500,[26,166,336...|[-0.0027080011953...|    1|\n|  4|Forest fire near ...|(2266,[2,139,183,...|(2500,[191,974,20...|[-0.0017992729055...|    1|\n|  5|All residents ask...|(2266,[212,318,32...|(2500,[294,691,11...|[0.00301898798947...|    1|\n|  6|13,000 people rec...|(2266,[8,41,85,21...|(2500,[8,325,644,...|[-0.0085309529677...|    1|\n|  7|Just got sent thi...|(2266,[0,85,130,1...|(2500,[178,198,32...|[-0.0092202152849...|    1|\n|  8|#RockyFire Update...|(2266,[2,41,85,21...|(2500,[191,325,64...|[-0.0043081726810...|    1|\n| 10|#flood #disaster ...|(2266,[15,21,57,1...|(2500,[353,356,64...|[0.00218058816002...|    1|\n| 13|I'm on top of the...|(2266,[2,25,187,1...|(2500,[15,191,187...|[-0.0103795815724...|    1|\n| 14|There's an emerge...|(2266,[20,198,212...|(2500,[36,99,699,...|[0.00826060997011...|    1|\n| 15|I'm afraid that t...|(2266,[19,239,322...|(2500,[649,1361,1...|[0.00754532904829...|    1|\n| 16|Three people died...|(2266,[8,109,166,...|(2500,[229,236,92...|[0.01370342611335...|    1|\n| 17|Haha South Tampa ...|(2266,[0,15,104,2...|(2500,[5,52,263,3...|[0.00281095398434...|    1|\n| 18|#raining #floodin...|(2266,[15,29,173,...|(2500,[52,605,113...|[0.00221913085422...|    1|\n| 19|#Flood in Bago My...|(2266,[15,731,774...|(2500,[1143,1277,...|[0.00140541605651...|    1|\n| 20|Damage to school ...|(2266,[18,52,93,1...|(2500,[823,949,13...|[0.00613656788066...|    1|\n| 23|      What's up man?|   (2266,[53],[1.0])|(2500,[730],[4.21...|[0.01679854281246...|    0|\n| 24|       I love fruits|(2266,[37,1534],[...|(2500,[1240,2048]...|[0.00770199950784...|    0|\n| 25|    Summer is lovely|(2266,[272,1477],...|(2500,[1933,2228]...|[0.01030138239730...|    0|\n| 26|   My car is so fast|(2266,[52,515],[1...|(2500,[1763,2372]...|[0.00533527706284...|    0|\n| 28|What a goooooooaa...|        (2266,[],[])| (2500,[2136],[0.0])|[0.0,0.0,0.0,0.0,...|    0|\n+---+--------------------+--------------------+--------------------+--------------------+-----+\nonly showing top 20 rows\n\n"
                }
            ],
            "source": "import pyspark.sql.functions as sfun\n\ndf_train = df_train.join(df_label.select('id', sfun.col('target').alias('label')), on='id', how='inner')\ndf_train.show()"
        },
        {
            "cell_type": "code",
            "execution_count": 14,
            "metadata": {},
            "outputs": [
                {
                    "name": "stdout",
                    "output_type": "stream",
                    "text": "Training Dataset Count: 5355\nTest Dataset Count: 2258\n"
                }
            ],
            "source": "df_training, df_validation = df_train.randomSplit([0.7, 0.3], seed=42)\nprint(\"Training Dataset Count: \" + str(df_training.count()))\nprint(\"Test Dataset Count: \" + str(df_validation.count()))"
        },
        {
            "cell_type": "markdown",
            "metadata": {},
            "source": "#### 3.2 Training Spark ML Models"
        },
        {
            "cell_type": "code",
            "execution_count": 15,
            "metadata": {},
            "outputs": [
                {
                    "name": "stdout",
                    "output_type": "stream",
                    "text": "Training LogisticRegression_c8b0de18d229\nTraining LogisticRegression_20d068424298\nTraining NaiveBayes_eadba888dbea\nTraining NaiveBayes_9056b7fbe3e8\n"
                },
                {
                    "data": {
                        "text/plain": "[LogisticRegressionModel: uid = LogisticRegression_c8b0de18d229, numClasses = 2, numFeatures = 2266,\n LogisticRegressionModel: uid = LogisticRegression_20d068424298, numClasses = 2, numFeatures = 2500,\n NaiveBayes_eadba888dbea,\n NaiveBayes_9056b7fbe3e8]"
                    },
                    "execution_count": 15,
                    "metadata": {},
                    "output_type": "execute_result"
                }
            ],
            "source": "spark_models = lrs + nbs\n\ndef training(model):\n    print('Training', model)\n    return model.fit(df_training)\n\ntrained = [training(model) for model in spark_models]\ntrained"
        },
        {
            "cell_type": "markdown",
            "metadata": {},
            "source": "#### 3.3 Training Keras Model"
        },
        {
            "cell_type": "code",
            "execution_count": 16,
            "metadata": {},
            "outputs": [
                {
                    "data": {
                        "text/plain": "(5355, 100)"
                    },
                    "execution_count": 16,
                    "metadata": {},
                    "output_type": "execute_result"
                }
            ],
            "source": "import numpy as np\nX = np.array(df_training.select('features_w2v').collect())\nX = X.reshape(-1, 100)\n\ny = np.array(df_training.select('label').collect())\ny = y.reshape(-1,)\n\nX.shape"
        },
        {
            "cell_type": "code",
            "execution_count": 17,
            "metadata": {},
            "outputs": [
                {
                    "name": "stdout",
                    "output_type": "stream",
                    "text": "Epoch 1/50\n35/35 [==============================] - 1s 27ms/step - loss: 0.6746 - accuracy: 0.6230 - val_loss: 0.6459 - val_accuracy: 0.6620\nEpoch 2/50\n35/35 [==============================] - 1s 18ms/step - loss: 0.6390 - accuracy: 0.6566 - val_loss: 0.6056 - val_accuracy: 0.7077\nEpoch 3/50\n35/35 [==============================] - 1s 16ms/step - loss: 0.6220 - accuracy: 0.6779 - val_loss: 0.5982 - val_accuracy: 0.6928\nEpoch 4/50\n35/35 [==============================] - 1s 19ms/step - loss: 0.6116 - accuracy: 0.6753 - val_loss: 0.5911 - val_accuracy: 0.7162\nEpoch 5/50\n35/35 [==============================] - 1s 18ms/step - loss: 0.6037 - accuracy: 0.6846 - val_loss: 0.5850 - val_accuracy: 0.6937\nEpoch 6/50\n35/35 [==============================] - 1s 17ms/step - loss: 0.5997 - accuracy: 0.6863 - val_loss: 0.5822 - val_accuracy: 0.7059\nEpoch 7/50\n35/35 [==============================] - 1s 18ms/step - loss: 0.5956 - accuracy: 0.6919 - val_loss: 0.5862 - val_accuracy: 0.6928\nEpoch 8/50\n35/35 [==============================] - 1s 18ms/step - loss: 0.5943 - accuracy: 0.6898 - val_loss: 0.5766 - val_accuracy: 0.7059\nEpoch 9/50\n35/35 [==============================] - 1s 19ms/step - loss: 0.5901 - accuracy: 0.6940 - val_loss: 0.5815 - val_accuracy: 0.7021\nEpoch 10/50\n35/35 [==============================] - 1s 18ms/step - loss: 0.5909 - accuracy: 0.6933 - val_loss: 0.5767 - val_accuracy: 0.6965\nEpoch 11/50\n35/35 [==============================] - 1s 16ms/step - loss: 0.5853 - accuracy: 0.6970 - val_loss: 0.5775 - val_accuracy: 0.7096\nEpoch 12/50\n35/35 [==============================] - 1s 16ms/step - loss: 0.5836 - accuracy: 0.6989 - val_loss: 0.5744 - val_accuracy: 0.7134\nEpoch 13/50\n35/35 [==============================] - 1s 17ms/step - loss: 0.5812 - accuracy: 0.7010 - val_loss: 0.5803 - val_accuracy: 0.7068\nEpoch 14/50\n35/35 [==============================] - 1s 18ms/step - loss: 0.5867 - accuracy: 0.6935 - val_loss: 0.5752 - val_accuracy: 0.7143\nEpoch 15/50\n35/35 [==============================] - 1s 14ms/step - loss: 0.5838 - accuracy: 0.6984 - val_loss: 0.5779 - val_accuracy: 0.7143\nEpoch 16/50\n35/35 [==============================] - 0s 14ms/step - loss: 0.5787 - accuracy: 0.6998 - val_loss: 0.5777 - val_accuracy: 0.7106\nEpoch 17/50\n35/35 [==============================] - 1s 16ms/step - loss: 0.5769 - accuracy: 0.6991 - val_loss: 0.5763 - val_accuracy: 0.7162\nEpoch 18/50\n35/35 [==============================] - 1s 17ms/step - loss: 0.5779 - accuracy: 0.7007 - val_loss: 0.5806 - val_accuracy: 0.7115\nEpoch 19/50\n35/35 [==============================] - 1s 16ms/step - loss: 0.5762 - accuracy: 0.7056 - val_loss: 0.5749 - val_accuracy: 0.7190\nEpoch 20/50\n35/35 [==============================] - 1s 17ms/step - loss: 0.5745 - accuracy: 0.7066 - val_loss: 0.5774 - val_accuracy: 0.7208\nEpoch 21/50\n35/35 [==============================] - 1s 16ms/step - loss: 0.5748 - accuracy: 0.7106 - val_loss: 0.5737 - val_accuracy: 0.7134\nEpoch 22/50\n35/35 [==============================] - 1s 16ms/step - loss: 0.5741 - accuracy: 0.7040 - val_loss: 0.5756 - val_accuracy: 0.7180\nEpoch 23/50\n35/35 [==============================] - 1s 17ms/step - loss: 0.5718 - accuracy: 0.7061 - val_loss: 0.5734 - val_accuracy: 0.7171\nEpoch 24/50\n35/35 [==============================] - 1s 17ms/step - loss: 0.5704 - accuracy: 0.7052 - val_loss: 0.5716 - val_accuracy: 0.7162\nEpoch 25/50\n35/35 [==============================] - 1s 18ms/step - loss: 0.5683 - accuracy: 0.7103 - val_loss: 0.5793 - val_accuracy: 0.7068\nEpoch 26/50\n35/35 [==============================] - 1s 18ms/step - loss: 0.5679 - accuracy: 0.7061 - val_loss: 0.5823 - val_accuracy: 0.7077\nEpoch 27/50\n35/35 [==============================] - 1s 19ms/step - loss: 0.5631 - accuracy: 0.7148 - val_loss: 0.5755 - val_accuracy: 0.7106\nEpoch 28/50\n35/35 [==============================] - 1s 16ms/step - loss: 0.5636 - accuracy: 0.7110 - val_loss: 0.5769 - val_accuracy: 0.7068\nEpoch 29/50\n35/35 [==============================] - 0s 14ms/step - loss: 0.5657 - accuracy: 0.7115 - val_loss: 0.5829 - val_accuracy: 0.6900\nEpoch 30/50\n35/35 [==============================] - 1s 18ms/step - loss: 0.5677 - accuracy: 0.7117 - val_loss: 0.5763 - val_accuracy: 0.7180\nEpoch 31/50\n35/35 [==============================] - 1s 18ms/step - loss: 0.5634 - accuracy: 0.7099 - val_loss: 0.5819 - val_accuracy: 0.7124\nEpoch 32/50\n35/35 [==============================] - 1s 18ms/step - loss: 0.5614 - accuracy: 0.7131 - val_loss: 0.5826 - val_accuracy: 0.7049\nEpoch 33/50\n35/35 [==============================] - 1s 17ms/step - loss: 0.5618 - accuracy: 0.7124 - val_loss: 0.5779 - val_accuracy: 0.7227\nEpoch 34/50\n35/35 [==============================] - 1s 20ms/step - loss: 0.5578 - accuracy: 0.7204 - val_loss: 0.5763 - val_accuracy: 0.7115\nEpoch 35/50\n35/35 [==============================] - 1s 19ms/step - loss: 0.5566 - accuracy: 0.7208 - val_loss: 0.5705 - val_accuracy: 0.7171\nEpoch 36/50\n35/35 [==============================] - 1s 17ms/step - loss: 0.5596 - accuracy: 0.7173 - val_loss: 0.5784 - val_accuracy: 0.6993\nEpoch 37/50\n35/35 [==============================] - 1s 17ms/step - loss: 0.5584 - accuracy: 0.7143 - val_loss: 0.5736 - val_accuracy: 0.7068\nEpoch 38/50\n35/35 [==============================] - 1s 17ms/step - loss: 0.5541 - accuracy: 0.7197 - val_loss: 0.5710 - val_accuracy: 0.7199\nEpoch 39/50\n35/35 [==============================] - 1s 17ms/step - loss: 0.5558 - accuracy: 0.7201 - val_loss: 0.5830 - val_accuracy: 0.7040\nEpoch 40/50\n35/35 [==============================] - 1s 17ms/step - loss: 0.5519 - accuracy: 0.7176 - val_loss: 0.5710 - val_accuracy: 0.7115\nEpoch 41/50\n35/35 [==============================] - 1s 17ms/step - loss: 0.5513 - accuracy: 0.7234 - val_loss: 0.5727 - val_accuracy: 0.7077\nEpoch 42/50\n35/35 [==============================] - 1s 16ms/step - loss: 0.5518 - accuracy: 0.7281 - val_loss: 0.5807 - val_accuracy: 0.6993\nEpoch 43/50\n35/35 [==============================] - 1s 15ms/step - loss: 0.5481 - accuracy: 0.7278 - val_loss: 0.5719 - val_accuracy: 0.7096\nEpoch 44/50\n35/35 [==============================] - 1s 16ms/step - loss: 0.5517 - accuracy: 0.7162 - val_loss: 0.5669 - val_accuracy: 0.7171\nEpoch 45/50\n35/35 [==============================] - 1s 17ms/step - loss: 0.5493 - accuracy: 0.7243 - val_loss: 0.5734 - val_accuracy: 0.7096\nEpoch 46/50\n35/35 [==============================] - 1s 19ms/step - loss: 0.5511 - accuracy: 0.7260 - val_loss: 0.5748 - val_accuracy: 0.7171\nEpoch 47/50\n35/35 [==============================] - 1s 19ms/step - loss: 0.5496 - accuracy: 0.7264 - val_loss: 0.5766 - val_accuracy: 0.6984\nEpoch 48/50\n35/35 [==============================] - 1s 19ms/step - loss: 0.5476 - accuracy: 0.7297 - val_loss: 0.5749 - val_accuracy: 0.7021\nEpoch 49/50\n35/35 [==============================] - 1s 20ms/step - loss: 0.5504 - accuracy: 0.7250 - val_loss: 0.5722 - val_accuracy: 0.7021\nEpoch 50/50\n35/35 [==============================] - 1s 18ms/step - loss: 0.5439 - accuracy: 0.7292 - val_loss: 0.5729 - val_accuracy: 0.7003\n"
                }
            ],
            "source": "history = model.fit(X, y,\n                    batch_size=124, epochs=50, validation_split=0.2)"
        },
        {
            "cell_type": "code",
            "execution_count": 18,
            "metadata": {},
            "outputs": [],
            "source": "import plotly.io as pio\npio.renderers.default = 'notebook_connected'"
        },
        {
            "cell_type": "code",
            "execution_count": 19,
            "metadata": {},
            "outputs": [
                {
                    "data": {
                        "text/html": "        <script type=\"text/javascript\">\n        window.PlotlyConfig = {MathJaxConfig: 'local'};\n        if (window.MathJax) {MathJax.Hub.Config({SVG: {font: \"STIX-Web\"}});}\n        if (typeof require !== 'undefined') {\n        require.undef(\"plotly\");\n        requirejs.config({\n            paths: {\n                'plotly': ['https://cdn.plot.ly/plotly-latest.min']\n            }\n        });\n        require(['plotly'], function(Plotly) {\n            window._Plotly = Plotly;\n        });\n        }\n        </script>\n        "
                    },
                    "metadata": {},
                    "output_type": "display_data"
                },
                {
                    "data": {
                        "text/html": "<div>\n        \n        \n            <div id=\"28fa4f16-54db-49a0-bdfb-26eb542a1b83\" class=\"plotly-graph-div\" style=\"height:525px; width:100%;\"></div>\n            <script type=\"text/javascript\">\n                require([\"plotly\"], function(Plotly) {\n                    window.PLOTLYENV=window.PLOTLYENV || {};\n                    \n                if (document.getElementById(\"28fa4f16-54db-49a0-bdfb-26eb542a1b83\")) {\n                    Plotly.newPlot(\n                        '28fa4f16-54db-49a0-bdfb-26eb542a1b83',\n                        [{\"hovertemplate\": \"variable=loss<br>epoche=%{x}<br>value=%{y}<extra></extra>\", \"legendgroup\": \"loss\", \"line\": {\"color\": \"#636efa\", \"dash\": \"solid\"}, \"mode\": \"lines\", \"name\": \"loss\", \"orientation\": \"v\", \"showlegend\": true, \"type\": \"scatter\", \"x\": [1, 2, 3, 4, 5, 6, 7, 8, 9, 10, 11, 12, 13, 14, 15, 16, 17, 18, 19, 20, 21, 22, 23, 24, 25, 26, 27, 28, 29, 30, 31, 32, 33, 34, 35, 36, 37, 38, 39, 40, 41, 42, 43, 44, 45, 46, 47, 48, 49, 50], \"xaxis\": \"x\", \"y\": [0.6745763421058655, 0.6390098333358765, 0.6219889521598816, 0.6116106510162354, 0.6036792397499084, 0.5996785163879395, 0.5956076383590698, 0.5943347811698914, 0.590123176574707, 0.5909197926521301, 0.5853025913238525, 0.5835554599761963, 0.5812085866928101, 0.5867376923561096, 0.5838345289230347, 0.5786988139152527, 0.5768556594848633, 0.577852189540863, 0.5761639475822449, 0.5744926929473877, 0.5748088359832764, 0.5741376876831055, 0.5718126893043518, 0.5704365968704224, 0.5683456659317017, 0.5678998827934265, 0.5631220936775208, 0.5635888576507568, 0.565706729888916, 0.5677467584609985, 0.563413679599762, 0.561362087726593, 0.5617661476135254, 0.5577830672264099, 0.5565703511238098, 0.5596150159835815, 0.5584233403205872, 0.5541436076164246, 0.5558297038078308, 0.5518750548362732, 0.5513364672660828, 0.5517500042915344, 0.5481164455413818, 0.5516616106033325, 0.54930180311203, 0.5511123538017273, 0.5496311783790588, 0.5476258993148804, 0.5504206418991089, 0.5438516139984131], \"yaxis\": \"y\"}, {\"hovertemplate\": \"variable=accuracy<br>epoche=%{x}<br>value=%{y}<extra></extra>\", \"legendgroup\": \"accuracy\", \"line\": {\"color\": \"#EF553B\", \"dash\": \"solid\"}, \"mode\": \"lines\", \"name\": \"accuracy\", \"orientation\": \"v\", \"showlegend\": true, \"type\": \"scatter\", \"x\": [1, 2, 3, 4, 5, 6, 7, 8, 9, 10, 11, 12, 13, 14, 15, 16, 17, 18, 19, 20, 21, 22, 23, 24, 25, 26, 27, 28, 29, 30, 31, 32, 33, 34, 35, 36, 37, 38, 39, 40, 41, 42, 43, 44, 45, 46, 47, 48, 49, 50], \"xaxis\": \"x\", \"y\": [0.6230158805847168, 0.6566293239593506, 0.6778711676597595, 0.6753034591674805, 0.6846405267715454, 0.686274528503418, 0.6918767690658569, 0.6897758841514587, 0.6939775943756104, 0.6932772994041443, 0.6970121264457703, 0.6988795399665833, 0.7009803652763367, 0.6935107111930847, 0.6984127163887024, 0.6998132467269897, 0.6991129517555237, 0.7007469534873962, 0.7056488990783691, 0.7065826058387756, 0.7105509042739868, 0.7040149569511414, 0.7061157822608948, 0.7051820755004883, 0.7103174328804016, 0.7061157822608948, 0.7147525548934937, 0.7110177278518677, 0.7114846110343933, 0.7117180228233337, 0.7098506093025208, 0.7131185531616211, 0.7124183177947998, 0.7203547954559326, 0.7208216786384583, 0.7173202633857727, 0.7142857313156128, 0.7196545004844666, 0.7201213836669922, 0.7175536751747131, 0.7233893275260925, 0.728057861328125, 0.7278244495391846, 0.7161531448364258, 0.724323034286499, 0.7259570360183716, 0.7264239192008972, 0.7296918630599976, 0.7250233292579651, 0.7292250394821167], \"yaxis\": \"y\"}, {\"hovertemplate\": \"variable=val_loss<br>epoche=%{x}<br>value=%{y}<extra></extra>\", \"legendgroup\": \"val_loss\", \"line\": {\"color\": \"#00cc96\", \"dash\": \"solid\"}, \"mode\": \"lines\", \"name\": \"val_loss\", \"orientation\": \"v\", \"showlegend\": true, \"type\": \"scatter\", \"x\": [1, 2, 3, 4, 5, 6, 7, 8, 9, 10, 11, 12, 13, 14, 15, 16, 17, 18, 19, 20, 21, 22, 23, 24, 25, 26, 27, 28, 29, 30, 31, 32, 33, 34, 35, 36, 37, 38, 39, 40, 41, 42, 43, 44, 45, 46, 47, 48, 49, 50], \"xaxis\": \"x\", \"y\": [0.645917534828186, 0.6055722236633301, 0.5981516242027283, 0.591078519821167, 0.58497554063797, 0.5822321176528931, 0.5861786007881165, 0.5765647292137146, 0.5814865827560425, 0.5766561031341553, 0.5774818062782288, 0.5743696689605713, 0.5802876353263855, 0.5751602053642273, 0.5778723359107971, 0.5776612162590027, 0.576261579990387, 0.5806193947792053, 0.5748834609985352, 0.5774152278900146, 0.5736882090568542, 0.5756401419639587, 0.5734318494796753, 0.5716164708137512, 0.579306423664093, 0.5822635889053345, 0.5754838585853577, 0.5768958330154419, 0.5829017162322998, 0.5762519836425781, 0.5819345116615295, 0.5826244354248047, 0.5779373645782471, 0.5762923359870911, 0.5705492496490479, 0.5783781409263611, 0.5736465454101562, 0.5710217356681824, 0.5830458402633667, 0.5709531307220459, 0.5727111101150513, 0.5807430744171143, 0.571924090385437, 0.5668625235557556, 0.573440432548523, 0.5748044848442078, 0.5766394138336182, 0.5748502016067505, 0.5722455978393555, 0.5728930830955505], \"yaxis\": \"y\"}, {\"hovertemplate\": \"variable=val_accuracy<br>epoche=%{x}<br>value=%{y}<extra></extra>\", \"legendgroup\": \"val_accuracy\", \"line\": {\"color\": \"#ab63fa\", \"dash\": \"solid\"}, \"mode\": \"lines\", \"name\": \"val_accuracy\", \"orientation\": \"v\", \"showlegend\": true, \"type\": \"scatter\", \"x\": [1, 2, 3, 4, 5, 6, 7, 8, 9, 10, 11, 12, 13, 14, 15, 16, 17, 18, 19, 20, 21, 22, 23, 24, 25, 26, 27, 28, 29, 30, 31, 32, 33, 34, 35, 36, 37, 38, 39, 40, 41, 42, 43, 44, 45, 46, 47, 48, 49, 50], \"xaxis\": \"x\", \"y\": [0.6619981527328491, 0.7077497839927673, 0.6928104758262634, 0.7161531448364258, 0.6937441825866699, 0.7058823704719543, 0.6928104758262634, 0.7058823704719543, 0.7021475434303284, 0.6965453028678894, 0.7096171975135803, 0.7133520245552063, 0.7068160772323608, 0.7142857313156128, 0.7142857313156128, 0.7105509042739868, 0.7161531448364258, 0.7114846110343933, 0.7189542651176453, 0.7208216786384583, 0.7133520245552063, 0.7180205583572388, 0.7170868515968323, 0.7161531448364258, 0.7068160772323608, 0.7077497839927673, 0.7105509042739868, 0.7068160772323608, 0.690009355545044, 0.7180205583572388, 0.7124183177947998, 0.7049486637115479, 0.7226890921592712, 0.7114846110343933, 0.7170868515968323, 0.6993464231491089, 0.7068160772323608, 0.7198879718780518, 0.7040149569511414, 0.7114846110343933, 0.7077497839927673, 0.6993464231491089, 0.7096171975135803, 0.7170868515968323, 0.7096171975135803, 0.7170868515968323, 0.6984127163887024, 0.7021475434303284, 0.7021475434303284, 0.7002801299095154], \"yaxis\": \"y\"}],\n                        {\"legend\": {\"title\": {\"text\": \"variable\"}, \"tracegroupgap\": 0}, \"margin\": {\"t\": 60}, \"template\": {\"data\": {\"bar\": [{\"error_x\": {\"color\": \"#2a3f5f\"}, \"error_y\": {\"color\": \"#2a3f5f\"}, \"marker\": {\"line\": {\"color\": \"#E5ECF6\", \"width\": 0.5}}, \"type\": \"bar\"}], \"barpolar\": [{\"marker\": {\"line\": {\"color\": \"#E5ECF6\", \"width\": 0.5}}, \"type\": \"barpolar\"}], \"carpet\": [{\"aaxis\": {\"endlinecolor\": \"#2a3f5f\", \"gridcolor\": \"white\", \"linecolor\": \"white\", \"minorgridcolor\": \"white\", \"startlinecolor\": \"#2a3f5f\"}, \"baxis\": {\"endlinecolor\": \"#2a3f5f\", \"gridcolor\": \"white\", \"linecolor\": \"white\", \"minorgridcolor\": \"white\", \"startlinecolor\": \"#2a3f5f\"}, \"type\": \"carpet\"}], \"choropleth\": [{\"colorbar\": {\"outlinewidth\": 0, \"ticks\": \"\"}, \"type\": \"choropleth\"}], \"contour\": [{\"colorbar\": {\"outlinewidth\": 0, \"ticks\": \"\"}, \"colorscale\": [[0.0, \"#0d0887\"], [0.1111111111111111, \"#46039f\"], [0.2222222222222222, \"#7201a8\"], [0.3333333333333333, \"#9c179e\"], [0.4444444444444444, \"#bd3786\"], [0.5555555555555556, \"#d8576b\"], [0.6666666666666666, \"#ed7953\"], [0.7777777777777778, \"#fb9f3a\"], [0.8888888888888888, \"#fdca26\"], [1.0, \"#f0f921\"]], \"type\": \"contour\"}], \"contourcarpet\": [{\"colorbar\": {\"outlinewidth\": 0, \"ticks\": \"\"}, \"type\": \"contourcarpet\"}], \"heatmap\": [{\"colorbar\": {\"outlinewidth\": 0, \"ticks\": \"\"}, \"colorscale\": [[0.0, \"#0d0887\"], [0.1111111111111111, \"#46039f\"], [0.2222222222222222, \"#7201a8\"], [0.3333333333333333, \"#9c179e\"], [0.4444444444444444, \"#bd3786\"], [0.5555555555555556, \"#d8576b\"], [0.6666666666666666, \"#ed7953\"], [0.7777777777777778, \"#fb9f3a\"], [0.8888888888888888, \"#fdca26\"], [1.0, \"#f0f921\"]], \"type\": \"heatmap\"}], \"heatmapgl\": [{\"colorbar\": {\"outlinewidth\": 0, \"ticks\": \"\"}, \"colorscale\": [[0.0, \"#0d0887\"], [0.1111111111111111, \"#46039f\"], [0.2222222222222222, \"#7201a8\"], [0.3333333333333333, \"#9c179e\"], [0.4444444444444444, \"#bd3786\"], [0.5555555555555556, \"#d8576b\"], [0.6666666666666666, \"#ed7953\"], [0.7777777777777778, \"#fb9f3a\"], [0.8888888888888888, \"#fdca26\"], [1.0, \"#f0f921\"]], \"type\": \"heatmapgl\"}], \"histogram\": [{\"marker\": {\"colorbar\": {\"outlinewidth\": 0, \"ticks\": \"\"}}, \"type\": \"histogram\"}], \"histogram2d\": [{\"colorbar\": {\"outlinewidth\": 0, \"ticks\": \"\"}, \"colorscale\": [[0.0, \"#0d0887\"], [0.1111111111111111, \"#46039f\"], [0.2222222222222222, \"#7201a8\"], [0.3333333333333333, \"#9c179e\"], [0.4444444444444444, \"#bd3786\"], [0.5555555555555556, \"#d8576b\"], [0.6666666666666666, \"#ed7953\"], [0.7777777777777778, \"#fb9f3a\"], [0.8888888888888888, \"#fdca26\"], [1.0, \"#f0f921\"]], \"type\": \"histogram2d\"}], \"histogram2dcontour\": [{\"colorbar\": {\"outlinewidth\": 0, \"ticks\": \"\"}, \"colorscale\": [[0.0, \"#0d0887\"], [0.1111111111111111, \"#46039f\"], [0.2222222222222222, \"#7201a8\"], [0.3333333333333333, \"#9c179e\"], [0.4444444444444444, \"#bd3786\"], [0.5555555555555556, \"#d8576b\"], [0.6666666666666666, \"#ed7953\"], [0.7777777777777778, \"#fb9f3a\"], [0.8888888888888888, \"#fdca26\"], [1.0, \"#f0f921\"]], \"type\": \"histogram2dcontour\"}], \"mesh3d\": [{\"colorbar\": {\"outlinewidth\": 0, \"ticks\": \"\"}, \"type\": \"mesh3d\"}], \"parcoords\": [{\"line\": {\"colorbar\": {\"outlinewidth\": 0, \"ticks\": \"\"}}, \"type\": \"parcoords\"}], \"pie\": [{\"automargin\": true, \"type\": \"pie\"}], \"scatter\": [{\"marker\": {\"colorbar\": {\"outlinewidth\": 0, \"ticks\": \"\"}}, \"type\": \"scatter\"}], \"scatter3d\": [{\"line\": {\"colorbar\": {\"outlinewidth\": 0, \"ticks\": \"\"}}, \"marker\": {\"colorbar\": {\"outlinewidth\": 0, \"ticks\": \"\"}}, \"type\": \"scatter3d\"}], \"scattercarpet\": [{\"marker\": {\"colorbar\": {\"outlinewidth\": 0, \"ticks\": \"\"}}, \"type\": \"scattercarpet\"}], \"scattergeo\": [{\"marker\": {\"colorbar\": {\"outlinewidth\": 0, \"ticks\": \"\"}}, \"type\": \"scattergeo\"}], \"scattergl\": [{\"marker\": {\"colorbar\": {\"outlinewidth\": 0, \"ticks\": \"\"}}, \"type\": \"scattergl\"}], \"scattermapbox\": [{\"marker\": {\"colorbar\": {\"outlinewidth\": 0, \"ticks\": \"\"}}, \"type\": \"scattermapbox\"}], \"scatterpolar\": [{\"marker\": {\"colorbar\": {\"outlinewidth\": 0, \"ticks\": \"\"}}, \"type\": \"scatterpolar\"}], \"scatterpolargl\": [{\"marker\": {\"colorbar\": {\"outlinewidth\": 0, \"ticks\": \"\"}}, \"type\": \"scatterpolargl\"}], \"scatterternary\": [{\"marker\": {\"colorbar\": {\"outlinewidth\": 0, \"ticks\": \"\"}}, \"type\": \"scatterternary\"}], \"surface\": [{\"colorbar\": {\"outlinewidth\": 0, \"ticks\": \"\"}, \"colorscale\": [[0.0, \"#0d0887\"], [0.1111111111111111, \"#46039f\"], [0.2222222222222222, \"#7201a8\"], [0.3333333333333333, \"#9c179e\"], [0.4444444444444444, \"#bd3786\"], [0.5555555555555556, \"#d8576b\"], [0.6666666666666666, \"#ed7953\"], [0.7777777777777778, \"#fb9f3a\"], [0.8888888888888888, \"#fdca26\"], [1.0, \"#f0f921\"]], \"type\": \"surface\"}], \"table\": [{\"cells\": {\"fill\": {\"color\": \"#EBF0F8\"}, \"line\": {\"color\": \"white\"}}, \"header\": {\"fill\": {\"color\": \"#C8D4E3\"}, \"line\": {\"color\": \"white\"}}, \"type\": \"table\"}]}, \"layout\": {\"annotationdefaults\": {\"arrowcolor\": \"#2a3f5f\", \"arrowhead\": 0, \"arrowwidth\": 1}, \"coloraxis\": {\"colorbar\": {\"outlinewidth\": 0, \"ticks\": \"\"}}, \"colorscale\": {\"diverging\": [[0, \"#8e0152\"], [0.1, \"#c51b7d\"], [0.2, \"#de77ae\"], [0.3, \"#f1b6da\"], [0.4, \"#fde0ef\"], [0.5, \"#f7f7f7\"], [0.6, \"#e6f5d0\"], [0.7, \"#b8e186\"], [0.8, \"#7fbc41\"], [0.9, \"#4d9221\"], [1, \"#276419\"]], \"sequential\": [[0.0, \"#0d0887\"], [0.1111111111111111, \"#46039f\"], [0.2222222222222222, \"#7201a8\"], [0.3333333333333333, \"#9c179e\"], [0.4444444444444444, \"#bd3786\"], [0.5555555555555556, \"#d8576b\"], [0.6666666666666666, \"#ed7953\"], [0.7777777777777778, \"#fb9f3a\"], [0.8888888888888888, \"#fdca26\"], [1.0, \"#f0f921\"]], \"sequentialminus\": [[0.0, \"#0d0887\"], [0.1111111111111111, \"#46039f\"], [0.2222222222222222, \"#7201a8\"], [0.3333333333333333, \"#9c179e\"], [0.4444444444444444, \"#bd3786\"], [0.5555555555555556, \"#d8576b\"], [0.6666666666666666, \"#ed7953\"], [0.7777777777777778, \"#fb9f3a\"], [0.8888888888888888, \"#fdca26\"], [1.0, \"#f0f921\"]]}, \"colorway\": [\"#636efa\", \"#EF553B\", \"#00cc96\", \"#ab63fa\", \"#FFA15A\", \"#19d3f3\", \"#FF6692\", \"#B6E880\", \"#FF97FF\", \"#FECB52\"], \"font\": {\"color\": \"#2a3f5f\"}, \"geo\": {\"bgcolor\": \"white\", \"lakecolor\": \"white\", \"landcolor\": \"#E5ECF6\", \"showlakes\": true, \"showland\": true, \"subunitcolor\": \"white\"}, \"hoverlabel\": {\"align\": \"left\"}, \"hovermode\": \"closest\", \"mapbox\": {\"style\": \"light\"}, \"paper_bgcolor\": \"white\", \"plot_bgcolor\": \"#E5ECF6\", \"polar\": {\"angularaxis\": {\"gridcolor\": \"white\", \"linecolor\": \"white\", \"ticks\": \"\"}, \"bgcolor\": \"#E5ECF6\", \"radialaxis\": {\"gridcolor\": \"white\", \"linecolor\": \"white\", \"ticks\": \"\"}}, \"scene\": {\"xaxis\": {\"backgroundcolor\": \"#E5ECF6\", \"gridcolor\": \"white\", \"gridwidth\": 2, \"linecolor\": \"white\", \"showbackground\": true, \"ticks\": \"\", \"zerolinecolor\": \"white\"}, \"yaxis\": {\"backgroundcolor\": \"#E5ECF6\", \"gridcolor\": \"white\", \"gridwidth\": 2, \"linecolor\": \"white\", \"showbackground\": true, \"ticks\": \"\", \"zerolinecolor\": \"white\"}, \"zaxis\": {\"backgroundcolor\": \"#E5ECF6\", \"gridcolor\": \"white\", \"gridwidth\": 2, \"linecolor\": \"white\", \"showbackground\": true, \"ticks\": \"\", \"zerolinecolor\": \"white\"}}, \"shapedefaults\": {\"line\": {\"color\": \"#2a3f5f\"}}, \"ternary\": {\"aaxis\": {\"gridcolor\": \"white\", \"linecolor\": \"white\", \"ticks\": \"\"}, \"baxis\": {\"gridcolor\": \"white\", \"linecolor\": \"white\", \"ticks\": \"\"}, \"bgcolor\": \"#E5ECF6\", \"caxis\": {\"gridcolor\": \"white\", \"linecolor\": \"white\", \"ticks\": \"\"}}, \"title\": {\"x\": 0.05}, \"xaxis\": {\"automargin\": true, \"gridcolor\": \"white\", \"linecolor\": \"white\", \"ticks\": \"\", \"title\": {\"standoff\": 15}, \"zerolinecolor\": \"white\", \"zerolinewidth\": 2}, \"yaxis\": {\"automargin\": true, \"gridcolor\": \"white\", \"linecolor\": \"white\", \"ticks\": \"\", \"title\": {\"standoff\": 15}, \"zerolinecolor\": \"white\", \"zerolinewidth\": 2}}}, \"xaxis\": {\"anchor\": \"y\", \"domain\": [0.0, 1.0], \"title\": {\"text\": \"epoche\"}}, \"yaxis\": {\"anchor\": \"x\", \"domain\": [0.0, 1.0], \"title\": {\"text\": \"value\"}}},\n                        {\"responsive\": true}\n                    ).then(function(){\n                            \nvar gd = document.getElementById('28fa4f16-54db-49a0-bdfb-26eb542a1b83');\nvar x = new MutationObserver(function (mutations, observer) {{\n        var display = window.getComputedStyle(gd).display;\n        if (!display || display === 'none') {{\n            console.log([gd, 'removed!']);\n            Plotly.purge(gd);\n            observer.disconnect();\n        }}\n}});\n\n// Listen for the removal of the full notebook cells\nvar notebookContainer = gd.closest('#notebook-container');\nif (notebookContainer) {{\n    x.observe(notebookContainer, {childList: true});\n}}\n\n// Listen for the clearing of the current output cell\nvar outputEl = gd.closest('.output');\nif (outputEl) {{\n    x.observe(outputEl, {childList: true});\n}}\n\n                        })\n                };\n                });\n            </script>\n        </div>"
                    },
                    "metadata": {},
                    "output_type": "display_data"
                }
            ],
            "source": "import plotly.express as px\nimport pandas as pd\n\nloss_values = history.history['loss']\nacc_values = history.history['accuracy']\nhistory.history['epoche'] = range(1, len(loss_values)+1)\n\nfig = px.line(pd.DataFrame(history.history),\n              x='epoche', y=['loss', 'accuracy', 'val_loss', 'val_accuracy'])\nfig.show()"
        },
        {
            "cell_type": "markdown",
            "metadata": {},
            "source": "## 4. Serializing Trained Models"
        },
        {
            "cell_type": "code",
            "execution_count": 20,
            "metadata": {},
            "outputs": [],
            "source": "!rm -rf *_*.ai"
        },
        {
            "cell_type": "code",
            "execution_count": 21,
            "metadata": {},
            "outputs": [
                {
                    "data": {
                        "text/plain": "['LogisticRegressionModel_count_trained.ai.zip',\n 'LogisticRegressionModel_tfidf_trained.ai.zip',\n 'NaiveBayes_eadba888dbea_count_trained.ai.zip',\n 'NaiveBayes_9056b7fbe3e8_tfidf_trained.ai.zip']"
                    },
                    "execution_count": 21,
                    "metadata": {},
                    "output_type": "execute_result"
                }
            ],
            "source": "import os\nimport shutil\n\nspark_models = lrs + nbs\n\ndef serialize_spark_model(model, name, feature):\n    export_path = '{name:}_{feature:}_trained.ai'.format(name=name, feature=feature)\n    model.save(export_path)\n    return shutil.make_archive(base_name=export_path,\n                               format='zip', base_dir=export_path)\n\nspark_paths = [serialize_spark_model(model, str(model).split(':')[0], feature)\n                for model, feature in zip(trained, ['count', 'tfidf'] * 2)]\nspark_paths"
        },
        {
            "cell_type": "code",
            "execution_count": 22,
            "metadata": {},
            "outputs": [
                {
                    "data": {
                        "text/plain": "'Sequential_NN_w2v_trained.ai.h5'"
                    },
                    "execution_count": 22,
                    "metadata": {},
                    "output_type": "execute_result"
                }
            ],
            "source": "def serialize_keras_model(model, name, feature):\n    export_path = '{name:}_{feature:}_trained.ai.h5'.format(name=name, feature=feature)\n    model.save(export_path)\n    return export_path\n\nkeras_path = serialize_keras_model(model, 'Sequential_NN', 'w2v')\nkeras_path"
        },
        {
            "cell_type": "markdown",
            "metadata": {},
            "source": "## 5. Serializing the Validation dataframe in Parquet Format"
        },
        {
            "cell_type": "code",
            "execution_count": 23,
            "metadata": {},
            "outputs": [
                {
                    "name": "stdout",
                    "output_type": "stream",
                    "text": "rm: cannot remove './desaster_detection_*': No such file or directory\r\n"
                }
            ],
            "source": "!rm -r ./desaster_detection_*"
        },
        {
            "cell_type": "code",
            "execution_count": 24,
            "metadata": {},
            "outputs": [
                {
                    "data": {
                        "text/plain": "['./disaster_detection_validation_validation']"
                    },
                    "execution_count": 24,
                    "metadata": {},
                    "output_type": "execute_result"
                }
            ],
            "source": "import glob\n\ntemp_parquet_file = os.path.join(os.path.curdir,\n                                 'disaster_detection_validation_{}')\ndf_validation.write.parquet(temp_parquet_file.format('validation'), mode='overwrite')\n\nglob.glob(temp_parquet_file.format('*'))"
        },
        {
            "cell_type": "markdown",
            "metadata": {},
            "source": "## 6. Uploading the Files to Object Cloud"
        },
        {
            "cell_type": "code",
            "execution_count": 25,
            "metadata": {},
            "outputs": [
                {
                    "data": {
                        "text/plain": "{'LogisticRegressionModel_count_trained.ai.zip': 'spark',\n 'LogisticRegressionModel_tfidf_trained.ai.zip': 'spark',\n 'NaiveBayes_eadba888dbea_count_trained.ai.zip': 'spark',\n 'NaiveBayes_9056b7fbe3e8_tfidf_trained.ai.zip': 'spark',\n 'Sequential_NN_w2v_trained.ai.h5': 'keras'}"
                    },
                    "execution_count": 25,
                    "metadata": {},
                    "output_type": "execute_result"
                }
            ],
            "source": "def upload_model(client, path, model_key):\n    with open(path, 'rb') as modelF:\n        client.put_object(Bucket=ibm_cloud_store_bucket,\n                          Body=modelF,\n                          Key=model_key\n                         )\n    return model_key\n\nclient = ibm_boto3.client(service_name='s3',\n    ibm_api_key_id=ibm_api_key_id,\n    ibm_auth_endpoint=\"https://iam.cloud.ibm.com/oidc/token\",\n    config=Config(signature_version='oauth'),\n    endpoint_url='https://s3-api.us-geo.objectstorage.service.networklayer.com')\n\nmodels = {upload_model(client, path, model_key=path): 'spark'\n          for path in spark_paths}\nmodels[upload_model(client, keras_path, model_key = keras_path)] = 'keras'\n\nmodels"
        },
        {
            "cell_type": "code",
            "execution_count": 26,
            "metadata": {},
            "outputs": [
                {
                    "data": {
                        "text/plain": "{'ResponseMetadata': {'RequestId': 'ece36fcd-581d-46f5-97d5-3986edad12c8',\n  'HostId': '',\n  'HTTPStatusCode': 200,\n  'HTTPHeaders': {'date': 'Sat, 06 Feb 2021 21:53:03 GMT',\n   'x-clv-request-id': 'ece36fcd-581d-46f5-97d5-3986edad12c8',\n   'server': 'Cleversafe',\n   'x-clv-s3-version': '2.5',\n   'x-amz-request-id': 'ece36fcd-581d-46f5-97d5-3986edad12c8',\n   'etag': '\"4f86fd0b2ae323700aa3c700f3f06006\"',\n   'content-length': '0'},\n  'RetryAttempts': 0},\n 'ETag': '\"4f86fd0b2ae323700aa3c700f3f06006\"'}"
                    },
                    "execution_count": 26,
                    "metadata": {},
                    "output_type": "execute_result"
                }
            ],
            "source": "import json\n\nclient.put_object(Bucket=ibm_cloud_store_bucket,\n                  Body=json.dumps(models),\n                  Key='model_train_files.json')"
        },
        {
            "cell_type": "code",
            "execution_count": 27,
            "metadata": {},
            "outputs": [
                {
                    "name": "stdout",
                    "output_type": "stream",
                    "text": "{'validation': ['disaster_detection_validation_validation-0000.parquet']}\n"
                }
            ],
            "source": "def upload_parquet(client, path):\n    parts = glob.glob(os.path.join(path, '*.parquet'))\n    parquets = ['{:s}-{:04d}.parquet'.format(os.path.split(path)[-1], i)\n                for i in range(len(parts))]\n    for part, parquet in zip(parts, parquets):\n        with open(part, 'rb') as parquetF:\n            client.put_object(Bucket=ibm_cloud_store_bucket,\n                          Body=parquetF,\n                          Key=parquet\n                         )\n    return parquets\n\nclient = ibm_boto3.client(service_name='s3',\n    ibm_api_key_id=ibm_api_key_id,\n    ibm_auth_endpoint=\"https://iam.cloud.ibm.com/oidc/token\",\n    config=Config(signature_version='oauth'),\n    endpoint_url='https://s3-api.us-geo.objectstorage.service.networklayer.com')\n\n\nparquets = {}\nfor dataset in ('validation',):\n    parquets[dataset] = upload_parquet(client, temp_parquet_file.format(dataset))\n\nprint(parquets)"
        },
        {
            "cell_type": "code",
            "execution_count": 28,
            "metadata": {},
            "outputs": [
                {
                    "data": {
                        "text/plain": "{'ResponseMetadata': {'RequestId': 'c8262607-8bdd-4c7a-911a-0ceb72014079',\n  'HostId': '',\n  'HTTPStatusCode': 200,\n  'HTTPHeaders': {'date': 'Sat, 06 Feb 2021 21:53:05 GMT',\n   'x-clv-request-id': 'c8262607-8bdd-4c7a-911a-0ceb72014079',\n   'server': 'Cleversafe',\n   'x-clv-s3-version': '2.5',\n   'x-amz-request-id': 'c8262607-8bdd-4c7a-911a-0ceb72014079',\n   'etag': '\"a1f887f86dff5f18b010706b471a8480\"',\n   'content-length': '0'},\n  'RetryAttempts': 0},\n 'ETag': '\"a1f887f86dff5f18b010706b471a8480\"'}"
                    },
                    "execution_count": 28,
                    "metadata": {},
                    "output_type": "execute_result"
                }
            ],
            "source": "import json\n\n\nparquets.update(files)\nclient.put_object(Bucket=ibm_cloud_store_bucket,\n                  Body=json.dumps(parquets),\n                  Key='validation_parquet_files.json')"
        },
        {
            "cell_type": "code",
            "execution_count": null,
            "metadata": {},
            "outputs": [],
            "source": ""
        }
    ],
    "metadata": {
        "kernelspec": {
            "display_name": "Python 3.7",
            "language": "python",
            "name": "python3"
        },
        "language_info": {
            "codemirror_mode": {
                "name": "ipython",
                "version": 3
            },
            "file_extension": ".py",
            "mimetype": "text/x-python",
            "name": "python",
            "nbconvert_exporter": "python",
            "pygments_lexer": "ipython3",
            "version": "3.7.9"
        }
    },
    "nbformat": 4,
    "nbformat_minor": 4
}