{
    "cells": [
        {
            "metadata": {},
            "cell_type": "markdown",
            "source": "# Extract \u2013 Transform \u2013 Load\n\n## 1. Setting Up Spark Context"
        },
        {
            "metadata": {},
            "cell_type": "code",
            "source": "from pyspark import SparkContext, SparkConf\nfrom pyspark.sql import SparkSession",
            "execution_count": 1,
            "outputs": []
        },
        {
            "metadata": {},
            "cell_type": "code",
            "source": "sc = SparkContext.getOrCreate(SparkConf().setMaster(\"local[*]\"))\n\nspark = SparkSession \\\n    .builder \\\n    .getOrCreate()",
            "execution_count": 2,
            "outputs": []
        },
        {
            "metadata": {},
            "cell_type": "markdown",
            "source": "## 2. Download and Data from Kaggle\n\nYou need an API Token for Kaggle to work. Create one in your Kaggle account settings page and upload `kaggle.json`."
        },
        {
            "metadata": {},
            "cell_type": "code",
            "source": "import os\nimport getpass\n\ndef get_or_set_environment_variable(variable):\n    try:\n        var = os.environ[variable]\n    except KeyError:\n        var = getpass.getpass('Please enter value for {:}: '.format(variable))\n    \n    os.environ[variable] = var\n    return var\n\nibm_api_key_id = get_or_set_environment_variable('IBM_API_KEY_ID')\nibm_cloud_store_bucket = get_or_set_environment_variable('IBM_OBJECT_STORE_BUCKET')",
            "execution_count": 3,
            "outputs": [
                {
                    "output_type": "stream",
                    "name": "stdout",
                    "text": "Please enter value for IBM_API_KEY_ID: \u00b7\u00b7\u00b7\u00b7\u00b7\u00b7\u00b7\u00b7\nPlease enter value for IBM_OBJECT_STORE_BUCKET: \u00b7\u00b7\u00b7\u00b7\u00b7\u00b7\u00b7\u00b7\n"
                }
            ]
        },
        {
            "metadata": {},
            "cell_type": "code",
            "source": "import json\nimport os\n\nimport types\nfrom botocore.client import Config\nimport ibm_boto3\n\ndef __iter__(self): return 0\n\nclient = ibm_boto3.client(service_name='s3',\n    ibm_api_key_id=ibm_api_key_id,\n    ibm_auth_endpoint=\"https://iam.cloud.ibm.com/oidc/token\",\n    config=Config(signature_version='oauth'),\n    endpoint_url='https://s3-api.us-geo.objectstorage.service.networklayer.com')\n\nbody = client.get_object(Bucket=ibm_cloud_store_bucket,\n                         Key='kaggle.json')['Body']\n# add missing __iter__ method\n\nif not hasattr(body, \"__iter__\"): body.__iter__ = types.MethodType( __iter__, body )\n\ncreds = json.load(body)\nos.environ['KAGGLE_USERNAME'] = creds['username']\nos.environ['KAGGLE_KEY'] = creds['key']",
            "execution_count": 4,
            "outputs": []
        },
        {
            "metadata": {},
            "cell_type": "code",
            "source": "!kaggle competitions download -c nlp-getting-started -p \"./work\"",
            "execution_count": 5,
            "outputs": [
                {
                    "output_type": "stream",
                    "text": "nlp-getting-started.zip: Skipping, found more recently modified local copy (use --force to force download)\r\n",
                    "name": "stdout"
                }
            ]
        },
        {
            "metadata": {},
            "cell_type": "code",
            "source": "import glob\n\nwork_path = os.path.join(os.path.curdir, 'work')\n\nzip_path = glob.glob(os.path.join(work_path, '*.zip'))[0]\nos.path.getsize(zip_path)",
            "execution_count": 6,
            "outputs": [
                {
                    "output_type": "execute_result",
                    "execution_count": 6,
                    "data": {
                        "text/plain": "607343"
                    },
                    "metadata": {}
                }
            ]
        },
        {
            "metadata": {},
            "cell_type": "code",
            "source": "import zipfile\n\nwith zipfile.ZipFile(zip_path, 'r') as zip_ref:\n    zip_ref.extractall(work_path)",
            "execution_count": 7,
            "outputs": []
        },
        {
            "metadata": {
                "scrolled": true
            },
            "cell_type": "code",
            "source": "glob.glob(os.path.join(work_path, '*.csv'))",
            "execution_count": 8,
            "outputs": [
                {
                    "output_type": "execute_result",
                    "execution_count": 8,
                    "data": {
                        "text/plain": "['./work/train.csv', './work/sample_submission.csv', './work/test.csv']"
                    },
                    "metadata": {}
                }
            ]
        },
        {
            "metadata": {},
            "cell_type": "markdown",
            "source": "## 3. Loading the files as `DataFrames` and splitting of the `'target'` column"
        },
        {
            "metadata": {},
            "cell_type": "code",
            "source": "from pyspark.sql.types import StructType, StructField, IntegerType, StringType\n\nschema = StructType([StructField('id', IntegerType(), nullable=False),\n                     StructField('keyword', StringType(), nullable=True),\n                     StructField('location', StringType(), nullable=True),\n                     StructField('text', StringType(), nullable=False)]\n                   )\nschema",
            "execution_count": 9,
            "outputs": [
                {
                    "output_type": "execute_result",
                    "execution_count": 9,
                    "data": {
                        "text/plain": "StructType(List(StructField(id,IntegerType,false),StructField(keyword,StringType,true),StructField(location,StringType,true),StructField(text,StringType,false)))"
                    },
                    "metadata": {}
                }
            ]
        },
        {
            "metadata": {},
            "cell_type": "code",
            "source": "df_test = spark.read.csv(os.path.join(work_path, 'test.csv'),\n                         header=True,\n                         encoding='UTF-8',\n                         enforceSchema=True,\n                         multiLine=True,\n                         schema=schema,\n                         mode='FAILFAST')\ndf_test.printSchema()\ndf_test.limit(10).toPandas()",
            "execution_count": 10,
            "outputs": [
                {
                    "output_type": "stream",
                    "text": "root\n |-- id: integer (nullable = true)\n |-- keyword: string (nullable = true)\n |-- location: string (nullable = true)\n |-- text: string (nullable = true)\n\n",
                    "name": "stdout"
                },
                {
                    "output_type": "execute_result",
                    "execution_count": 10,
                    "data": {
                        "text/plain": "   id keyword location                                               text\n0   0    None     None                 Just happened a terrible car crash\n1   2    None     None  Heard about #earthquake is different cities, s...\n2   3    None     None  there is a forest fire at spot pond, geese are...\n3   9    None     None           Apocalypse lighting. #Spokane #wildfires\n4  11    None     None      Typhoon Soudelor kills 28 in China and Taiwan\n5  12    None     None                 We're shaking...It's an earthquake\n6  21    None     None  They'd probably still show more life than Arse...\n7  22    None     None                                  Hey! How are you?\n8  27    None     None                                   What a nice hat?\n9  29    None     None                                          Fuck off!",
                        "text/html": "<div>\n<style scoped>\n    .dataframe tbody tr th:only-of-type {\n        vertical-align: middle;\n    }\n\n    .dataframe tbody tr th {\n        vertical-align: top;\n    }\n\n    .dataframe thead th {\n        text-align: right;\n    }\n</style>\n<table border=\"1\" class=\"dataframe\">\n  <thead>\n    <tr style=\"text-align: right;\">\n      <th></th>\n      <th>id</th>\n      <th>keyword</th>\n      <th>location</th>\n      <th>text</th>\n    </tr>\n  </thead>\n  <tbody>\n    <tr>\n      <th>0</th>\n      <td>0</td>\n      <td>None</td>\n      <td>None</td>\n      <td>Just happened a terrible car crash</td>\n    </tr>\n    <tr>\n      <th>1</th>\n      <td>2</td>\n      <td>None</td>\n      <td>None</td>\n      <td>Heard about #earthquake is different cities, s...</td>\n    </tr>\n    <tr>\n      <th>2</th>\n      <td>3</td>\n      <td>None</td>\n      <td>None</td>\n      <td>there is a forest fire at spot pond, geese are...</td>\n    </tr>\n    <tr>\n      <th>3</th>\n      <td>9</td>\n      <td>None</td>\n      <td>None</td>\n      <td>Apocalypse lighting. #Spokane #wildfires</td>\n    </tr>\n    <tr>\n      <th>4</th>\n      <td>11</td>\n      <td>None</td>\n      <td>None</td>\n      <td>Typhoon Soudelor kills 28 in China and Taiwan</td>\n    </tr>\n    <tr>\n      <th>5</th>\n      <td>12</td>\n      <td>None</td>\n      <td>None</td>\n      <td>We're shaking...It's an earthquake</td>\n    </tr>\n    <tr>\n      <th>6</th>\n      <td>21</td>\n      <td>None</td>\n      <td>None</td>\n      <td>They'd probably still show more life than Arse...</td>\n    </tr>\n    <tr>\n      <th>7</th>\n      <td>22</td>\n      <td>None</td>\n      <td>None</td>\n      <td>Hey! How are you?</td>\n    </tr>\n    <tr>\n      <th>8</th>\n      <td>27</td>\n      <td>None</td>\n      <td>None</td>\n      <td>What a nice hat?</td>\n    </tr>\n    <tr>\n      <th>9</th>\n      <td>29</td>\n      <td>None</td>\n      <td>None</td>\n      <td>Fuck off!</td>\n    </tr>\n  </tbody>\n</table>\n</div>"
                    },
                    "metadata": {}
                }
            ]
        },
        {
            "metadata": {},
            "cell_type": "code",
            "source": "schema.add(StructField('target', IntegerType(), nullable=False))\nschema",
            "execution_count": 11,
            "outputs": [
                {
                    "output_type": "execute_result",
                    "execution_count": 11,
                    "data": {
                        "text/plain": "StructType(List(StructField(id,IntegerType,false),StructField(keyword,StringType,true),StructField(location,StringType,true),StructField(text,StringType,false),StructField(target,IntegerType,false)))"
                    },
                    "metadata": {}
                }
            ]
        },
        {
            "metadata": {},
            "cell_type": "code",
            "source": "df_train = spark.read.csv(os.path.join(work_path, 'train.csv'),\n                          header=True,\n                          encoding='UTF-8',\n                          multiLine=True,\n                          enforceSchema=True,\n                          schema=schema,\n                          mode='FAILFAST')\ndf_train.printSchema()\ndf_train.limit(10).toPandas()",
            "execution_count": 12,
            "outputs": [
                {
                    "output_type": "stream",
                    "text": "root\n |-- id: integer (nullable = true)\n |-- keyword: string (nullable = true)\n |-- location: string (nullable = true)\n |-- text: string (nullable = true)\n |-- target: integer (nullable = true)\n\n",
                    "name": "stdout"
                },
                {
                    "output_type": "execute_result",
                    "execution_count": 12,
                    "data": {
                        "text/plain": "   id keyword location                                               text  \\\n0   1    None     None  Our Deeds are the Reason of this #earthquake M...   \n1   4    None     None             Forest fire near La Ronge Sask. Canada   \n2   5    None     None  All residents asked to 'shelter in place' are ...   \n3   6    None     None  13,000 people receive #wildfires evacuation or...   \n4   7    None     None  Just got sent this photo from Ruby #Alaska as ...   \n5   8    None     None  #RockyFire Update => California Hwy. 20 closed...   \n6  10    None     None  #flood #disaster Heavy rain causes flash flood...   \n7  13    None     None  I'm on top of the hill and I can see a fire in...   \n8  14    None     None  There's an emergency evacuation happening now ...   \n9  15    None     None  I'm afraid that the tornado is coming to our a...   \n\n   target  \n0       1  \n1       1  \n2       1  \n3       1  \n4       1  \n5       1  \n6       1  \n7       1  \n8       1  \n9       1  ",
                        "text/html": "<div>\n<style scoped>\n    .dataframe tbody tr th:only-of-type {\n        vertical-align: middle;\n    }\n\n    .dataframe tbody tr th {\n        vertical-align: top;\n    }\n\n    .dataframe thead th {\n        text-align: right;\n    }\n</style>\n<table border=\"1\" class=\"dataframe\">\n  <thead>\n    <tr style=\"text-align: right;\">\n      <th></th>\n      <th>id</th>\n      <th>keyword</th>\n      <th>location</th>\n      <th>text</th>\n      <th>target</th>\n    </tr>\n  </thead>\n  <tbody>\n    <tr>\n      <th>0</th>\n      <td>1</td>\n      <td>None</td>\n      <td>None</td>\n      <td>Our Deeds are the Reason of this #earthquake M...</td>\n      <td>1</td>\n    </tr>\n    <tr>\n      <th>1</th>\n      <td>4</td>\n      <td>None</td>\n      <td>None</td>\n      <td>Forest fire near La Ronge Sask. Canada</td>\n      <td>1</td>\n    </tr>\n    <tr>\n      <th>2</th>\n      <td>5</td>\n      <td>None</td>\n      <td>None</td>\n      <td>All residents asked to 'shelter in place' are ...</td>\n      <td>1</td>\n    </tr>\n    <tr>\n      <th>3</th>\n      <td>6</td>\n      <td>None</td>\n      <td>None</td>\n      <td>13,000 people receive #wildfires evacuation or...</td>\n      <td>1</td>\n    </tr>\n    <tr>\n      <th>4</th>\n      <td>7</td>\n      <td>None</td>\n      <td>None</td>\n      <td>Just got sent this photo from Ruby #Alaska as ...</td>\n      <td>1</td>\n    </tr>\n    <tr>\n      <th>5</th>\n      <td>8</td>\n      <td>None</td>\n      <td>None</td>\n      <td>#RockyFire Update =&gt; California Hwy. 20 closed...</td>\n      <td>1</td>\n    </tr>\n    <tr>\n      <th>6</th>\n      <td>10</td>\n      <td>None</td>\n      <td>None</td>\n      <td>#flood #disaster Heavy rain causes flash flood...</td>\n      <td>1</td>\n    </tr>\n    <tr>\n      <th>7</th>\n      <td>13</td>\n      <td>None</td>\n      <td>None</td>\n      <td>I'm on top of the hill and I can see a fire in...</td>\n      <td>1</td>\n    </tr>\n    <tr>\n      <th>8</th>\n      <td>14</td>\n      <td>None</td>\n      <td>None</td>\n      <td>There's an emergency evacuation happening now ...</td>\n      <td>1</td>\n    </tr>\n    <tr>\n      <th>9</th>\n      <td>15</td>\n      <td>None</td>\n      <td>None</td>\n      <td>I'm afraid that the tornado is coming to our a...</td>\n      <td>1</td>\n    </tr>\n  </tbody>\n</table>\n</div>"
                    },
                    "metadata": {}
                }
            ]
        },
        {
            "metadata": {},
            "cell_type": "code",
            "source": "df_label = df_train.select('id', 'target')\ndf_label.printSchema()\ndf_label.limit(10).toPandas()",
            "execution_count": 13,
            "outputs": [
                {
                    "output_type": "stream",
                    "text": "root\n |-- id: integer (nullable = true)\n |-- target: integer (nullable = true)\n\n",
                    "name": "stdout"
                },
                {
                    "output_type": "execute_result",
                    "execution_count": 13,
                    "data": {
                        "text/plain": "   id  target\n0   1       1\n1   4       1\n2   5       1\n3   6       1\n4   7       1\n5   8       1\n6  10       1\n7  13       1\n8  14       1\n9  15       1",
                        "text/html": "<div>\n<style scoped>\n    .dataframe tbody tr th:only-of-type {\n        vertical-align: middle;\n    }\n\n    .dataframe tbody tr th {\n        vertical-align: top;\n    }\n\n    .dataframe thead th {\n        text-align: right;\n    }\n</style>\n<table border=\"1\" class=\"dataframe\">\n  <thead>\n    <tr style=\"text-align: right;\">\n      <th></th>\n      <th>id</th>\n      <th>target</th>\n    </tr>\n  </thead>\n  <tbody>\n    <tr>\n      <th>0</th>\n      <td>1</td>\n      <td>1</td>\n    </tr>\n    <tr>\n      <th>1</th>\n      <td>4</td>\n      <td>1</td>\n    </tr>\n    <tr>\n      <th>2</th>\n      <td>5</td>\n      <td>1</td>\n    </tr>\n    <tr>\n      <th>3</th>\n      <td>6</td>\n      <td>1</td>\n    </tr>\n    <tr>\n      <th>4</th>\n      <td>7</td>\n      <td>1</td>\n    </tr>\n    <tr>\n      <th>5</th>\n      <td>8</td>\n      <td>1</td>\n    </tr>\n    <tr>\n      <th>6</th>\n      <td>10</td>\n      <td>1</td>\n    </tr>\n    <tr>\n      <th>7</th>\n      <td>13</td>\n      <td>1</td>\n    </tr>\n    <tr>\n      <th>8</th>\n      <td>14</td>\n      <td>1</td>\n    </tr>\n    <tr>\n      <th>9</th>\n      <td>15</td>\n      <td>1</td>\n    </tr>\n  </tbody>\n</table>\n</div>"
                    },
                    "metadata": {}
                }
            ]
        },
        {
            "metadata": {},
            "cell_type": "code",
            "source": "df_train = df_train.drop('target')\ndf_train.limit(10).toPandas()",
            "execution_count": 14,
            "outputs": [
                {
                    "output_type": "execute_result",
                    "execution_count": 14,
                    "data": {
                        "text/plain": "   id keyword location                                               text\n0   1    None     None  Our Deeds are the Reason of this #earthquake M...\n1   4    None     None             Forest fire near La Ronge Sask. Canada\n2   5    None     None  All residents asked to 'shelter in place' are ...\n3   6    None     None  13,000 people receive #wildfires evacuation or...\n4   7    None     None  Just got sent this photo from Ruby #Alaska as ...\n5   8    None     None  #RockyFire Update => California Hwy. 20 closed...\n6  10    None     None  #flood #disaster Heavy rain causes flash flood...\n7  13    None     None  I'm on top of the hill and I can see a fire in...\n8  14    None     None  There's an emergency evacuation happening now ...\n9  15    None     None  I'm afraid that the tornado is coming to our a...",
                        "text/html": "<div>\n<style scoped>\n    .dataframe tbody tr th:only-of-type {\n        vertical-align: middle;\n    }\n\n    .dataframe tbody tr th {\n        vertical-align: top;\n    }\n\n    .dataframe thead th {\n        text-align: right;\n    }\n</style>\n<table border=\"1\" class=\"dataframe\">\n  <thead>\n    <tr style=\"text-align: right;\">\n      <th></th>\n      <th>id</th>\n      <th>keyword</th>\n      <th>location</th>\n      <th>text</th>\n    </tr>\n  </thead>\n  <tbody>\n    <tr>\n      <th>0</th>\n      <td>1</td>\n      <td>None</td>\n      <td>None</td>\n      <td>Our Deeds are the Reason of this #earthquake M...</td>\n    </tr>\n    <tr>\n      <th>1</th>\n      <td>4</td>\n      <td>None</td>\n      <td>None</td>\n      <td>Forest fire near La Ronge Sask. Canada</td>\n    </tr>\n    <tr>\n      <th>2</th>\n      <td>5</td>\n      <td>None</td>\n      <td>None</td>\n      <td>All residents asked to 'shelter in place' are ...</td>\n    </tr>\n    <tr>\n      <th>3</th>\n      <td>6</td>\n      <td>None</td>\n      <td>None</td>\n      <td>13,000 people receive #wildfires evacuation or...</td>\n    </tr>\n    <tr>\n      <th>4</th>\n      <td>7</td>\n      <td>None</td>\n      <td>None</td>\n      <td>Just got sent this photo from Ruby #Alaska as ...</td>\n    </tr>\n    <tr>\n      <th>5</th>\n      <td>8</td>\n      <td>None</td>\n      <td>None</td>\n      <td>#RockyFire Update =&gt; California Hwy. 20 closed...</td>\n    </tr>\n    <tr>\n      <th>6</th>\n      <td>10</td>\n      <td>None</td>\n      <td>None</td>\n      <td>#flood #disaster Heavy rain causes flash flood...</td>\n    </tr>\n    <tr>\n      <th>7</th>\n      <td>13</td>\n      <td>None</td>\n      <td>None</td>\n      <td>I'm on top of the hill and I can see a fire in...</td>\n    </tr>\n    <tr>\n      <th>8</th>\n      <td>14</td>\n      <td>None</td>\n      <td>None</td>\n      <td>There's an emergency evacuation happening now ...</td>\n    </tr>\n    <tr>\n      <th>9</th>\n      <td>15</td>\n      <td>None</td>\n      <td>None</td>\n      <td>I'm afraid that the tornado is coming to our a...</td>\n    </tr>\n  </tbody>\n</table>\n</div>"
                    },
                    "metadata": {}
                }
            ]
        },
        {
            "metadata": {},
            "cell_type": "markdown",
            "source": "## 4. Serializing the dataframes in *Parquet* format"
        },
        {
            "metadata": {},
            "cell_type": "code",
            "source": "!rm -r ./disaster_detection_*",
            "execution_count": 15,
            "outputs": [
                {
                    "output_type": "stream",
                    "text": "rm: cannot remove './disaster_detection_*': No such file or directory\r\n",
                    "name": "stdout"
                }
            ]
        },
        {
            "metadata": {},
            "cell_type": "code",
            "source": "temp_parquet_file = os.path.join(os.path.curdir,\n                                 'disaster_detection_{}')\ndf_train.write.parquet(temp_parquet_file.format('train'))\ndf_label.write.parquet(temp_parquet_file.format('label'))\ndf_test.write.parquet(temp_parquet_file.format('test'))\n\nglob.glob(temp_parquet_file.format('*'))",
            "execution_count": 16,
            "outputs": [
                {
                    "output_type": "execute_result",
                    "execution_count": 16,
                    "data": {
                        "text/plain": "['./disaster_detection_train',\n './disaster_detection_label',\n './disaster_detection_test']"
                    },
                    "metadata": {}
                }
            ]
        },
        {
            "metadata": {},
            "cell_type": "markdown",
            "source": "## 5. Uploading the files to object cloud"
        },
        {
            "metadata": {},
            "cell_type": "code",
            "source": "def upload_parquet(client, path):\n    parts = glob.glob(os.path.join(path, '*.parquet'))\n    parquets = ['{:s}-{:04d}.parquet'.format(os.path.split(path)[-1], i)\n                for i in range(len(parts))]\n    for part, parquet in zip(parts, parquets):\n        with open(part, 'rb') as parquetF:\n            client.put_object(Bucket=ibm_cloud_store_bucket,\n                          Body=parquetF,\n                          Key=parquet\n                         )\n    return parquets\n\nclient = ibm_boto3.client(service_name='s3',\n    ibm_api_key_id=ibm_api_key_id,\n    ibm_auth_endpoint=\"https://iam.cloud.ibm.com/oidc/token\",\n    config=Config(signature_version='oauth'),\n    endpoint_url='https://s3-api.us-geo.objectstorage.service.networklayer.com')\n\n\nparquets = {}\nfor dataset in ('train', 'label', 'test'):\n    parquets[dataset] = upload_parquet(client, temp_parquet_file.format(dataset))\n\nprint(parquets)",
            "execution_count": 17,
            "outputs": [
                {
                    "output_type": "stream",
                    "text": "{'train': ['disaster_detection_train-0000.parquet'], 'label': ['disaster_detection_label-0000.parquet'], 'test': ['disaster_detection_test-0000.parquet']}\n",
                    "name": "stdout"
                }
            ]
        },
        {
            "metadata": {},
            "cell_type": "code",
            "source": "import json\n\nclient.put_object(Bucket=ibm_cloud_store_bucket,\n                  Body=json.dumps(parquets),\n                  Key='etl_parquet_files.json')",
            "execution_count": 18,
            "outputs": [
                {
                    "output_type": "execute_result",
                    "execution_count": 18,
                    "data": {
                        "text/plain": "{'ResponseMetadata': {'RequestId': 'f9233808-ec22-46b4-ace7-75f069a9f528',\n  'HostId': '',\n  'HTTPStatusCode': 200,\n  'HTTPHeaders': {'date': 'Sat, 06 Feb 2021 21:42:04 GMT',\n   'x-clv-request-id': 'f9233808-ec22-46b4-ace7-75f069a9f528',\n   'server': 'Cleversafe',\n   'x-clv-s3-version': '2.5',\n   'x-amz-request-id': 'f9233808-ec22-46b4-ace7-75f069a9f528',\n   'etag': '\"71f41b034280b8afc049f8a95a788d25\"',\n   'content-length': '0'},\n  'RetryAttempts': 0},\n 'ETag': '\"71f41b034280b8afc049f8a95a788d25\"'}"
                    },
                    "metadata": {}
                }
            ]
        },
        {
            "metadata": {},
            "cell_type": "code",
            "source": "",
            "execution_count": null,
            "outputs": []
        }
    ],
    "metadata": {
        "kernelspec": {
            "name": "python3",
            "display_name": "Python 3.7",
            "language": "python"
        },
        "language_info": {
            "name": "python",
            "version": "3.7.9",
            "mimetype": "text/x-python",
            "codemirror_mode": {
                "name": "ipython",
                "version": 3
            },
            "pygments_lexer": "ipython3",
            "nbconvert_exporter": "python",
            "file_extension": ".py"
        }
    },
    "nbformat": 4,
    "nbformat_minor": 4
}